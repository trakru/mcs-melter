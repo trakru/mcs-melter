{
 "metadata": {
  "language_info": {
   "codemirror_mode": {
    "name": "ipython",
    "version": 3
   },
   "file_extension": ".py",
   "mimetype": "text/x-python",
   "name": "python",
   "nbconvert_exporter": "python",
   "pygments_lexer": "ipython3",
   "version": "3.9.0-final"
  },
  "orig_nbformat": 2,
  "kernelspec": {
   "name": "python3",
   "display_name": "Python 3.9.0 64-bit ('data-wrangler-mKJmvUQx')",
   "metadata": {
    "interpreter": {
     "hash": "1297bf46fd56284c7340c3f9875bd78ace492b213a65dd31a63d0c6d16c15a07"
    }
   }
  }
 },
 "nbformat": 4,
 "nbformat_minor": 2,
 "cells": [
  {
   "cell_type": "code",
   "execution_count": 2,
   "metadata": {},
   "outputs": [],
   "source": [
    "import awswrangler as wr\n",
    "import boto3"
   ]
  },
  {
   "cell_type": "code",
   "execution_count": 3,
   "metadata": {},
   "outputs": [],
   "source": [
    "# define session\n",
    "session = boto3.session.Session(profile_name='saml')"
   ]
  },
  {
   "cell_type": "code",
   "execution_count": 13,
   "metadata": {},
   "outputs": [],
   "source": [
    "#get all glue tables\n",
    "glue_tables = wr.catalog.get_tables(database='snmp-data-catalog', boto3_session=session)"
   ]
  },
  {
   "cell_type": "code",
   "execution_count": 14,
   "metadata": {},
   "outputs": [],
   "source": [
    "#initialise empty list\n",
    "glue_tables_list = []\n",
    "\n",
    "for item in glue_tables:\n",
    "    glue_tables_list.append(item)\n",
    "    "
   ]
  },
  {
   "cell_type": "code",
   "execution_count": 15,
   "metadata": {},
   "outputs": [
    {
     "output_type": "stream",
     "name": "stdout",
     "text": [
      "snmp_csv_type_channelstats\nsnmp_csv_type_clientinfo\nsnmp_csv_type_radiostats\nsnmp_csv_type_radiostatsmcs\nsnmp_csv_type_ssidscan\nsnmp_csv_type_ssidstats\nsnmp_csv_type_tunnelstats\n"
     ]
    }
   ],
   "source": [
    "# generate list of tables in Glue database\n",
    "\n",
    "for i in range(len(glue_tables_list)):\n",
    "    print(glue_tables_list[i]['Name'])\n"
   ]
  },
  {
   "cell_type": "code",
   "execution_count": null,
   "metadata": {},
   "outputs": [],
   "source": []
  }
 ]
}