{
 "metadata": {
  "language_info": {
   "codemirror_mode": {
    "name": "ipython",
    "version": 3
   },
   "file_extension": ".py",
   "mimetype": "text/x-python",
   "name": "python",
   "nbconvert_exporter": "python",
   "pygments_lexer": "ipython3",
   "version": "3.9.0-final"
  },
  "orig_nbformat": 2,
  "kernelspec": {
   "name": "python3",
   "display_name": "Python 3.9.0 64-bit ('data-wrangler-mKJmvUQx')",
   "metadata": {
    "interpreter": {
     "hash": "1297bf46fd56284c7340c3f9875bd78ace492b213a65dd31a63d0c6d16c15a07"
    }
   }
  }
 },
 "nbformat": 4,
 "nbformat_minor": 2,
 "cells": [
  {
   "source": [
    "## Backup working notebook for data exploration\n",
    "\n",
    "We will use awswrangler to make sure that we have a working connection to the AWS environment and that we can do our pandas-operations (groupby, melt etc.) without having to recreate the exact conditions\n",
    "\n",
    "once this notebook executes successfullky, the next step is to migrate the code to `mcs-melter.py` which is in the root directory of this folder\n",
    "\n",
    "### To-do\n",
    "* migrate code to lambda\n",
    "* exploration of more libraries being added for trajectory performance"
   ],
   "cell_type": "markdown",
   "metadata": {}
  },
  {
   "cell_type": "code",
   "execution_count": 1,
   "metadata": {},
   "outputs": [],
   "source": [
    "# import required libraries\n",
    "\n",
    "import boto3\n",
    "import awswrangler as wr\n",
    "import pandas as pd"
   ]
  },
  {
   "cell_type": "code",
   "execution_count": 2,
   "metadata": {},
   "outputs": [],
   "source": [
    "# create boto session\n",
    "\n",
    "session = boto3.session.Session(profile_name='saml')\n",
    "s3 = session.resource('s3')"
   ]
  },
  {
   "cell_type": "code",
   "execution_count": 3,
   "metadata": {},
   "outputs": [],
   "source": [
    "# reading parquet files\n",
    "\n",
    "parquet_bucket = 's3://xwifi-od-s3-parquet/snmp/type=radiostatsMCS/*'\n",
    "result = wr.s3.list_objects(parquet_bucket, boto3_session=session)"
   ]
  },
  {
   "cell_type": "code",
   "execution_count": 4,
   "metadata": {},
   "outputs": [],
   "source": [
    "## Defining two sets of helper functions to apply astype & sum functions across large number of columns\n",
    "\n",
    "\n",
    "def column_list_maker(df):\n",
    "    \"\"\"creates a list of columns that starts with 2.4 & 5\"\"\"\n",
    "    return tuple(var for var in df.columns if var.startswith((\"2.4\", \"5\")))\n",
    "\n",
    "def column_dict_maker(df):\n",
    "    \"\"\"Returns a dictionary of 72 columns \n",
    "    that are supposed to have int values\"\"\"\n",
    "    column_dict = {}\n",
    "    for idx, c in enumerate(column_list_maker(df)):\n",
    "        column_dict[c]= int\n",
    "    return column_dict\n",
    "\n",
    "def agg_dict_maker(df):\n",
    "    \"\"\"Returns a dictionary of 72 columns \n",
    "    that are supposed to be aggregated into\n",
    "    sum values\"\"\"\n",
    "    agg_dict = {}\n",
    "    for idx, c in enumerate(column_list_maker(df)):\n",
    "        agg_dict[c]= sum\n",
    "    return agg_dict"
   ]
  },
  {
   "cell_type": "code",
   "execution_count": 6,
   "metadata": {},
   "outputs": [],
   "source": [
    "## Pandas manipulation\n",
    "\n",
    "df = wr.s3.read_parquet(result[0], boto3_session=session)\n",
    "df['timestamp'] = pd.to_datetime(df['timestamp']).dt.date\n",
    "df = df.drop(['current_ip', 'current_location', 'dt'], axis=1)\n",
    "df = df.rename(columns={'current_mac':'snmpreportedmac','timestamp':'date'})\n",
    "df = df.fillna(0)\n",
    "df = df.astype(column_dict_maker(df))\n",
    "df = df.groupby(['date','snmpreportedmac'], as_index=False).agg(agg_dict_maker(df))\n",
    "df = pd.melt(df, id_vars=['date', 'snmpreportedmac'], value_vars=column_list_maker(df))\n",
    "df['sort_order'] = df['variable'].str.extract(r'[2,5]\\.?[4]?_\\w{2}_mcs(\\d*)')\n",
    "df['transmission_type'] = df['variable'].str.extract(r'[2,5]\\.?[4]?_(\\w{2})_mcs\\d*')\n",
    "df['radio_type'] = df['variable'].str.extract(r'([2,5]\\.?[4]?)_\\w{2}_mcs\\d*') "
   ]
  },
  {
   "cell_type": "code",
   "execution_count": 7,
   "metadata": {},
   "outputs": [
    {
     "output_type": "execute_result",
     "data": {
      "text/plain": [
       "         date    snmpreportedmac     variable  value sort_order  \\\n",
       "0  2020-05-01  74:EA:E8:F2:C9:25  2.4_tx_mcs0      0          0   \n",
       "1  2020-05-01  74:EA:E8:F2:CB:AD  2.4_tx_mcs0      0          0   \n",
       "2  2020-05-01  74:EA:E8:F2:CD:4D  2.4_tx_mcs0      0          0   \n",
       "3  2020-05-01  74:EA:E8:F2:CD:5D  2.4_tx_mcs0      0          0   \n",
       "4  2020-05-01  74:EA:E8:F2:CD:61  2.4_tx_mcs0      0          0   \n",
       "\n",
       "  transmission_type radio_type  \n",
       "0                tx        2.4  \n",
       "1                tx        2.4  \n",
       "2                tx        2.4  \n",
       "3                tx        2.4  \n",
       "4                tx        2.4  "
      ],
      "text/html": "<div>\n<style scoped>\n    .dataframe tbody tr th:only-of-type {\n        vertical-align: middle;\n    }\n\n    .dataframe tbody tr th {\n        vertical-align: top;\n    }\n\n    .dataframe thead th {\n        text-align: right;\n    }\n</style>\n<table border=\"1\" class=\"dataframe\">\n  <thead>\n    <tr style=\"text-align: right;\">\n      <th></th>\n      <th>date</th>\n      <th>snmpreportedmac</th>\n      <th>variable</th>\n      <th>value</th>\n      <th>sort_order</th>\n      <th>transmission_type</th>\n      <th>radio_type</th>\n    </tr>\n  </thead>\n  <tbody>\n    <tr>\n      <th>0</th>\n      <td>2020-05-01</td>\n      <td>74:EA:E8:F2:C9:25</td>\n      <td>2.4_tx_mcs0</td>\n      <td>0</td>\n      <td>0</td>\n      <td>tx</td>\n      <td>2.4</td>\n    </tr>\n    <tr>\n      <th>1</th>\n      <td>2020-05-01</td>\n      <td>74:EA:E8:F2:CB:AD</td>\n      <td>2.4_tx_mcs0</td>\n      <td>0</td>\n      <td>0</td>\n      <td>tx</td>\n      <td>2.4</td>\n    </tr>\n    <tr>\n      <th>2</th>\n      <td>2020-05-01</td>\n      <td>74:EA:E8:F2:CD:4D</td>\n      <td>2.4_tx_mcs0</td>\n      <td>0</td>\n      <td>0</td>\n      <td>tx</td>\n      <td>2.4</td>\n    </tr>\n    <tr>\n      <th>3</th>\n      <td>2020-05-01</td>\n      <td>74:EA:E8:F2:CD:5D</td>\n      <td>2.4_tx_mcs0</td>\n      <td>0</td>\n      <td>0</td>\n      <td>tx</td>\n      <td>2.4</td>\n    </tr>\n    <tr>\n      <th>4</th>\n      <td>2020-05-01</td>\n      <td>74:EA:E8:F2:CD:61</td>\n      <td>2.4_tx_mcs0</td>\n      <td>0</td>\n      <td>0</td>\n      <td>tx</td>\n      <td>2.4</td>\n    </tr>\n  </tbody>\n</table>\n</div>"
     },
     "metadata": {},
     "execution_count": 7
    }
   ],
   "source": [
    "df.head()"
   ]
  },
  {
   "cell_type": "code",
   "execution_count": 9,
   "metadata": {},
   "outputs": [
    {
     "output_type": "execute_result",
     "data": {
      "text/plain": [
       "'scripts have finished processing'"
      ]
     },
     "metadata": {},
     "execution_count": 9
    }
   ],
   "source": [
    "\"\"\"scripts have finished processing\"\"\""
   ]
  },
  {
   "source": [
    "## Start of old code. do not use"
   ],
   "cell_type": "markdown",
   "metadata": {}
  },
  {
   "cell_type": "code",
   "execution_count": 3,
   "metadata": {},
   "outputs": [],
   "source": [
    "#using S3 objects to generate file list\n",
    "# my_bucket = s3.Bucket('xwifi-od-s3-transform')\n",
    "# data_prefix='/converted-data/snmp/type=radioStatsMCS/'\n",
    "# file_list = [obs for obs in my_bucket.objects.all()]\n"
   ]
  },
  {
   "cell_type": "code",
   "execution_count": 4,
   "metadata": {},
   "outputs": [],
   "source": [
    "# file_list"
   ]
  },
  {
   "cell_type": "code",
   "execution_count": 5,
   "metadata": {},
   "outputs": [],
   "source": [
    "# file_list = wr.s3.list_objects(\"s3://xwifi-od-s3-transform/radioStatsMCS\")"
   ]
  },
  {
   "cell_type": "code",
   "execution_count": 6,
   "metadata": {},
   "outputs": [],
   "source": [
    "# # identify csv bucket url\n",
    "\n",
    "# # muy_bucket = 'xwifi-od-s3-transform/'\n",
    "# my_bucket = 's3://xwifi-od-s3-transform/converted-data/snmp/type=radioStatsMCS/**/*'\n",
    "\n",
    "# # store results in a list\n",
    "# result = wr.s3.list_objects(my_bucket, boto3_session=session)"
   ]
  },
  {
   "cell_type": "code",
   "execution_count": 7,
   "metadata": {},
   "outputs": [],
   "source": [
    "# len(result)"
   ]
  },
  {
   "cell_type": "code",
   "execution_count": 8,
   "metadata": {},
   "outputs": [],
   "source": [
    "# result[0]"
   ]
  },
  {
   "cell_type": "code",
   "execution_count": 3,
   "metadata": {},
   "outputs": [],
   "source": []
  },
  {
   "cell_type": "code",
   "execution_count": 10,
   "metadata": {},
   "outputs": [],
   "source": [
    "# len(result)"
   ]
  },
  {
   "cell_type": "code",
   "execution_count": 11,
   "metadata": {},
   "outputs": [],
   "source": [
    "# result[0]"
   ]
  },
  {
   "cell_type": "code",
   "execution_count": 12,
   "metadata": {},
   "outputs": [],
   "source": [
    "# # Defining two sets of helper functions to apply astype & sum functions across large number of columns\n",
    "\n",
    "# def column_dict_maker(df):\n",
    "#     \"\"\"Returns a dictionary of 72 columns \n",
    "#     that are supposed to have int values\"\"\"\n",
    "#     column_dict = {}\n",
    "#     for idx, c in enumerate(df.columns):\n",
    "#         if idx <=1:\n",
    "#             continue\n",
    "#         else:\n",
    "#             column_dict[c]= int\n",
    "#     return column_dict\n",
    "\n",
    "# def agg_dict_maker(df):\n",
    "#     \"\"\"Returns a dictionary of 72 columns \n",
    "#     that are supposed to be aggregated into\n",
    "#     sum values\"\"\"\n",
    "#     agg_dict = {}\n",
    "#     for idx, c in enumerate(df.columns):\n",
    "#         if idx <=1:\n",
    "#             continue\n",
    "#         else:\n",
    "#             agg_dict[c]= sum\n",
    "#     return agg_dict\n",
    "\n",
    "# def column_list_maker(df):\n",
    "#     \"\"\"creates a list of columns that have numeric values only\"\"\"\n",
    "#     return tuple(var for var in df.columns if var not in ['date', 'snmpreportedmac'])"
   ]
  },
  {
   "cell_type": "code",
   "execution_count": 4,
   "metadata": {},
   "outputs": [],
   "source": [
    "# def column_list_maker(df):\n",
    "#     \"\"\"creates a list of columns that have numeric values only\"\"\"\n",
    "#     return tuple(var for var in df.columns if var not in ['date', 'snmpreportedmac'])"
   ]
  },
  {
   "cell_type": "code",
   "execution_count": 4,
   "metadata": {},
   "outputs": [],
   "source": [
    "# if link.lower().startswith((\"js\", \"catalog\", \"script\", \"katalog\")):\n",
    "\n"
   ]
  },
  {
   "cell_type": "code",
   "execution_count": 15,
   "metadata": {},
   "outputs": [],
   "source": [
    "# column_list_maker(df)"
   ]
  },
  {
   "cell_type": "code",
   "execution_count": 5,
   "metadata": {},
   "outputs": [],
   "source": [
    "df = wr.s3.read_parquet(result[0], boto3_session=session)\n",
    "df['timestamp'] = pd.to_datetime(df['timestamp']).dt.date\n",
    "df = df.drop(['current_ip', 'current_location', 'dt'], axis=1)\n",
    "df = df.rename(columns={'current_mac':'snmpreportedmac','timestamp':'date'})\n",
    "df = df.fillna(0)"
   ]
  },
  {
   "cell_type": "code",
   "execution_count": 6,
   "metadata": {},
   "outputs": [],
   "source": [
    "# column_list_maker(df)"
   ]
  },
  {
   "cell_type": "code",
   "execution_count": 7,
   "metadata": {},
   "outputs": [],
   "source": [
    "# agg_dict = {}\n",
    "# for idx, c in enumerate(column_list_maker(df)):\n",
    "#     agg_dict[c] = int"
   ]
  },
  {
   "cell_type": "code",
   "execution_count": 8,
   "metadata": {},
   "outputs": [],
   "source": [
    "# agg_dict"
   ]
  },
  {
   "cell_type": "code",
   "execution_count": 9,
   "metadata": {},
   "outputs": [],
   "source": [
    "df = wr.s3.read_parquet(result[0], boto3_session=session)\n",
    "df['timestamp'] = pd.to_datetime(df['timestamp']).dt.date\n",
    "df = df.drop(['current_ip', 'current_location', 'dt'], axis=1)\n",
    "df = df.rename(columns={'current_mac':'snmpreportedmac','timestamp':'date'})\n",
    "df = df.fillna(0)\n",
    "df = df.astype(column_dict_maker(df))\n",
    "df = df.groupby(['date','snmpreportedmac'], as_index=False).agg(agg_dict_maker(df))\n",
    "df = pd.melt(df, id_vars=['date', 'snmpreportedmac'], value_vars=column_list_maker(df))\n",
    "df['sort_order'] = df['variable'].str.extract(r'[2,5]\\.?[4]?_\\w{2}_mcs(\\d*)')\n",
    "df['transmission_type'] = df['variable'].str.extract(r'[2,5]\\.?[4]?_(\\w{2})_mcs\\d*')\n",
    "df['radio_type'] = df['variable'].str.extract(r'([2,5]\\.?[4]?)_\\w{2}_mcs\\d*') "
   ]
  },
  {
   "cell_type": "code",
   "execution_count": 10,
   "metadata": {},
   "outputs": [
    {
     "output_type": "execute_result",
     "data": {
      "text/plain": [
       "         date    snmpreportedmac     variable  value sort_order  \\\n",
       "0  2020-05-01  74:EA:E8:F2:C9:25  2.4_tx_mcs0      0          0   \n",
       "1  2020-05-01  74:EA:E8:F2:CB:AD  2.4_tx_mcs0      0          0   \n",
       "2  2020-05-01  74:EA:E8:F2:CD:4D  2.4_tx_mcs0      0          0   \n",
       "3  2020-05-01  74:EA:E8:F2:CD:5D  2.4_tx_mcs0      0          0   \n",
       "4  2020-05-01  74:EA:E8:F2:CD:61  2.4_tx_mcs0      0          0   \n",
       "\n",
       "  transmission_type radio_type  \n",
       "0                tx        2.4  \n",
       "1                tx        2.4  \n",
       "2                tx        2.4  \n",
       "3                tx        2.4  \n",
       "4                tx        2.4  "
      ],
      "text/html": "<div>\n<style scoped>\n    .dataframe tbody tr th:only-of-type {\n        vertical-align: middle;\n    }\n\n    .dataframe tbody tr th {\n        vertical-align: top;\n    }\n\n    .dataframe thead th {\n        text-align: right;\n    }\n</style>\n<table border=\"1\" class=\"dataframe\">\n  <thead>\n    <tr style=\"text-align: right;\">\n      <th></th>\n      <th>date</th>\n      <th>snmpreportedmac</th>\n      <th>variable</th>\n      <th>value</th>\n      <th>sort_order</th>\n      <th>transmission_type</th>\n      <th>radio_type</th>\n    </tr>\n  </thead>\n  <tbody>\n    <tr>\n      <th>0</th>\n      <td>2020-05-01</td>\n      <td>74:EA:E8:F2:C9:25</td>\n      <td>2.4_tx_mcs0</td>\n      <td>0</td>\n      <td>0</td>\n      <td>tx</td>\n      <td>2.4</td>\n    </tr>\n    <tr>\n      <th>1</th>\n      <td>2020-05-01</td>\n      <td>74:EA:E8:F2:CB:AD</td>\n      <td>2.4_tx_mcs0</td>\n      <td>0</td>\n      <td>0</td>\n      <td>tx</td>\n      <td>2.4</td>\n    </tr>\n    <tr>\n      <th>2</th>\n      <td>2020-05-01</td>\n      <td>74:EA:E8:F2:CD:4D</td>\n      <td>2.4_tx_mcs0</td>\n      <td>0</td>\n      <td>0</td>\n      <td>tx</td>\n      <td>2.4</td>\n    </tr>\n    <tr>\n      <th>3</th>\n      <td>2020-05-01</td>\n      <td>74:EA:E8:F2:CD:5D</td>\n      <td>2.4_tx_mcs0</td>\n      <td>0</td>\n      <td>0</td>\n      <td>tx</td>\n      <td>2.4</td>\n    </tr>\n    <tr>\n      <th>4</th>\n      <td>2020-05-01</td>\n      <td>74:EA:E8:F2:CD:61</td>\n      <td>2.4_tx_mcs0</td>\n      <td>0</td>\n      <td>0</td>\n      <td>tx</td>\n      <td>2.4</td>\n    </tr>\n  </tbody>\n</table>\n</div>"
     },
     "metadata": {},
     "execution_count": 10
    }
   ],
   "source": [
    "df.head()"
   ]
  },
  {
   "cell_type": "code",
   "execution_count": 9,
   "metadata": {},
   "outputs": [],
   "source": [
    "df = wr.s3.read_parquet(result[0], boto3_session=session)\n",
    "df['timestamp'] = pd.to_datetime(df['timestamp']).dt.date\n",
    "df = df.drop(['current_ip', 'current_location', 'dt'], axis=1)\n",
    "df = df.rename(columns={'current_mac':'snmpreportedmac',\n",
    "                       'timestamp':'date'})\n",
    "df = df.fillna(0)"
   ]
  },
  {
   "cell_type": "code",
   "execution_count": 11,
   "metadata": {},
   "outputs": [
    {
     "output_type": "execute_result",
     "data": {
      "text/plain": [
       "'scripts have finished processing'"
      ]
     },
     "metadata": {},
     "execution_count": 11
    }
   ],
   "source": []
  },
  {
   "cell_type": "code",
   "execution_count": null,
   "metadata": {},
   "outputs": [],
   "source": []
  },
  {
   "cell_type": "code",
   "execution_count": 16,
   "metadata": {},
   "outputs": [],
   "source": []
  },
  {
   "cell_type": "code",
   "execution_count": 12,
   "metadata": {},
   "outputs": [],
   "source": []
  },
  {
   "cell_type": "code",
   "execution_count": 13,
   "metadata": {},
   "outputs": [
    {
     "output_type": "execute_result",
     "data": {
      "text/plain": [
       "            date    snmpreportedmac  2.4_tx_mcs0  2.4_tx_mcs1  2.4_tx_mcs2  \\\n",
       "0     2020-05-01  74:EA:E8:F2:C9:25            0        22725        34308   \n",
       "1     2020-05-01  74:EA:E8:F2:CB:AD            0        40327        50804   \n",
       "2     2020-05-01  74:EA:E8:F2:CD:5D            0        10986        18429   \n",
       "3     2020-05-01  74:EA:E8:F2:CD:61            0        31732        76223   \n",
       "4     2020-05-01  74:EA:E8:F2:CD:65            0        33427        52482   \n",
       "...          ...                ...          ...          ...          ...   \n",
       "4223  2020-05-02  A8:9F:EC:FC:32:1D            0        23688        30986   \n",
       "4224  2020-05-02  A8:9F:EC:FC:32:4D            0        26138        42523   \n",
       "4225  2020-05-02  F8:2D:C0:BF:95:29            0        53157       100246   \n",
       "4226  2020-05-02  A8:9F:EC:FC:29:1D            0        28950        51271   \n",
       "4227  2020-05-02  A8:9F:EC:FC:30:C1            0         1317         1596   \n",
       "\n",
       "      2.4_tx_mcs3  2.4_tx_mcs4  2.4_tx_mcs5  2.4_tx_mcs6  2.4_tx_mcs7  ...  \\\n",
       "0           18095        17591         9548         5779        15578  ...   \n",
       "1           20497        18281        16396         9686        24781  ...   \n",
       "2           11805        11266        10963         5602         9375  ...   \n",
       "3           38533        41836        37240        21054        43111  ...   \n",
       "4           25680        20884        18512         7298        30783  ...   \n",
       "...           ...          ...          ...          ...          ...  ...   \n",
       "4223        21223        23875        11228         7998        28899  ...   \n",
       "4224        40157        61949        66430        41113        81861  ...   \n",
       "4225        53730        52342        33239        16810        63856  ...   \n",
       "4226        27875        26679         7112         4148        15300  ...   \n",
       "4227         1142         1746         1500         1107         3311  ...   \n",
       "\n",
       "      5_rx_mcs0  5_rx_mcs1  5_rx_mcs2  5_rx_mcs3  5_rx_mcs4  5_rx_mcs5  \\\n",
       "0        199474     304524     183456      77823      68337      47792   \n",
       "1        108226     190755     185718     134420     129412      66452   \n",
       "2        168593     244436     128489      77944      77410      36468   \n",
       "3        334083     397082     209994      87483      77227      51134   \n",
       "4         90475     158018     127459      99296     101081      61572   \n",
       "...         ...        ...        ...        ...        ...        ...   \n",
       "4223      72270      96065      69136      96159     118452      46864   \n",
       "4224      71400      61548      67208      72711     125424      92564   \n",
       "4225     175997     305408     207893     290109     287716     116219   \n",
       "4226     121516      83633      38506      28816      35948      20276   \n",
       "4227     104829     804483     204368     188050     541429     135300   \n",
       "\n",
       "      5_rx_mcs6  5_rx_mcs7  5_rx_mcs8  5_rx_mcs9  \n",
       "0         31653      20422       3162       3463  \n",
       "1         48138      27885       5205       5828  \n",
       "2         17288      20829       6376       7388  \n",
       "3         30798      12699       4481       3746  \n",
       "4         39603      20381       4531       4045  \n",
       "...         ...        ...        ...        ...  \n",
       "4223      54776      60924      25060      28361  \n",
       "4224      80608      87878      39369        130  \n",
       "4225      82420      47325      13636      10031  \n",
       "4226      18143      12109       5875       4011  \n",
       "4227      14180       9105       1474       1693  \n",
       "\n",
       "[4228 rows x 70 columns]"
      ],
      "text/html": "<div>\n<style scoped>\n    .dataframe tbody tr th:only-of-type {\n        vertical-align: middle;\n    }\n\n    .dataframe tbody tr th {\n        vertical-align: top;\n    }\n\n    .dataframe thead th {\n        text-align: right;\n    }\n</style>\n<table border=\"1\" class=\"dataframe\">\n  <thead>\n    <tr style=\"text-align: right;\">\n      <th></th>\n      <th>date</th>\n      <th>snmpreportedmac</th>\n      <th>2.4_tx_mcs0</th>\n      <th>2.4_tx_mcs1</th>\n      <th>2.4_tx_mcs2</th>\n      <th>2.4_tx_mcs3</th>\n      <th>2.4_tx_mcs4</th>\n      <th>2.4_tx_mcs5</th>\n      <th>2.4_tx_mcs6</th>\n      <th>2.4_tx_mcs7</th>\n      <th>...</th>\n      <th>5_rx_mcs0</th>\n      <th>5_rx_mcs1</th>\n      <th>5_rx_mcs2</th>\n      <th>5_rx_mcs3</th>\n      <th>5_rx_mcs4</th>\n      <th>5_rx_mcs5</th>\n      <th>5_rx_mcs6</th>\n      <th>5_rx_mcs7</th>\n      <th>5_rx_mcs8</th>\n      <th>5_rx_mcs9</th>\n    </tr>\n  </thead>\n  <tbody>\n    <tr>\n      <th>0</th>\n      <td>2020-05-01</td>\n      <td>74:EA:E8:F2:C9:25</td>\n      <td>0</td>\n      <td>22725</td>\n      <td>34308</td>\n      <td>18095</td>\n      <td>17591</td>\n      <td>9548</td>\n      <td>5779</td>\n      <td>15578</td>\n      <td>...</td>\n      <td>199474</td>\n      <td>304524</td>\n      <td>183456</td>\n      <td>77823</td>\n      <td>68337</td>\n      <td>47792</td>\n      <td>31653</td>\n      <td>20422</td>\n      <td>3162</td>\n      <td>3463</td>\n    </tr>\n    <tr>\n      <th>1</th>\n      <td>2020-05-01</td>\n      <td>74:EA:E8:F2:CB:AD</td>\n      <td>0</td>\n      <td>40327</td>\n      <td>50804</td>\n      <td>20497</td>\n      <td>18281</td>\n      <td>16396</td>\n      <td>9686</td>\n      <td>24781</td>\n      <td>...</td>\n      <td>108226</td>\n      <td>190755</td>\n      <td>185718</td>\n      <td>134420</td>\n      <td>129412</td>\n      <td>66452</td>\n      <td>48138</td>\n      <td>27885</td>\n      <td>5205</td>\n      <td>5828</td>\n    </tr>\n    <tr>\n      <th>2</th>\n      <td>2020-05-01</td>\n      <td>74:EA:E8:F2:CD:5D</td>\n      <td>0</td>\n      <td>10986</td>\n      <td>18429</td>\n      <td>11805</td>\n      <td>11266</td>\n      <td>10963</td>\n      <td>5602</td>\n      <td>9375</td>\n      <td>...</td>\n      <td>168593</td>\n      <td>244436</td>\n      <td>128489</td>\n      <td>77944</td>\n      <td>77410</td>\n      <td>36468</td>\n      <td>17288</td>\n      <td>20829</td>\n      <td>6376</td>\n      <td>7388</td>\n    </tr>\n    <tr>\n      <th>3</th>\n      <td>2020-05-01</td>\n      <td>74:EA:E8:F2:CD:61</td>\n      <td>0</td>\n      <td>31732</td>\n      <td>76223</td>\n      <td>38533</td>\n      <td>41836</td>\n      <td>37240</td>\n      <td>21054</td>\n      <td>43111</td>\n      <td>...</td>\n      <td>334083</td>\n      <td>397082</td>\n      <td>209994</td>\n      <td>87483</td>\n      <td>77227</td>\n      <td>51134</td>\n      <td>30798</td>\n      <td>12699</td>\n      <td>4481</td>\n      <td>3746</td>\n    </tr>\n    <tr>\n      <th>4</th>\n      <td>2020-05-01</td>\n      <td>74:EA:E8:F2:CD:65</td>\n      <td>0</td>\n      <td>33427</td>\n      <td>52482</td>\n      <td>25680</td>\n      <td>20884</td>\n      <td>18512</td>\n      <td>7298</td>\n      <td>30783</td>\n      <td>...</td>\n      <td>90475</td>\n      <td>158018</td>\n      <td>127459</td>\n      <td>99296</td>\n      <td>101081</td>\n      <td>61572</td>\n      <td>39603</td>\n      <td>20381</td>\n      <td>4531</td>\n      <td>4045</td>\n    </tr>\n    <tr>\n      <th>...</th>\n      <td>...</td>\n      <td>...</td>\n      <td>...</td>\n      <td>...</td>\n      <td>...</td>\n      <td>...</td>\n      <td>...</td>\n      <td>...</td>\n      <td>...</td>\n      <td>...</td>\n      <td>...</td>\n      <td>...</td>\n      <td>...</td>\n      <td>...</td>\n      <td>...</td>\n      <td>...</td>\n      <td>...</td>\n      <td>...</td>\n      <td>...</td>\n      <td>...</td>\n      <td>...</td>\n    </tr>\n    <tr>\n      <th>4223</th>\n      <td>2020-05-02</td>\n      <td>A8:9F:EC:FC:32:1D</td>\n      <td>0</td>\n      <td>23688</td>\n      <td>30986</td>\n      <td>21223</td>\n      <td>23875</td>\n      <td>11228</td>\n      <td>7998</td>\n      <td>28899</td>\n      <td>...</td>\n      <td>72270</td>\n      <td>96065</td>\n      <td>69136</td>\n      <td>96159</td>\n      <td>118452</td>\n      <td>46864</td>\n      <td>54776</td>\n      <td>60924</td>\n      <td>25060</td>\n      <td>28361</td>\n    </tr>\n    <tr>\n      <th>4224</th>\n      <td>2020-05-02</td>\n      <td>A8:9F:EC:FC:32:4D</td>\n      <td>0</td>\n      <td>26138</td>\n      <td>42523</td>\n      <td>40157</td>\n      <td>61949</td>\n      <td>66430</td>\n      <td>41113</td>\n      <td>81861</td>\n      <td>...</td>\n      <td>71400</td>\n      <td>61548</td>\n      <td>67208</td>\n      <td>72711</td>\n      <td>125424</td>\n      <td>92564</td>\n      <td>80608</td>\n      <td>87878</td>\n      <td>39369</td>\n      <td>130</td>\n    </tr>\n    <tr>\n      <th>4225</th>\n      <td>2020-05-02</td>\n      <td>F8:2D:C0:BF:95:29</td>\n      <td>0</td>\n      <td>53157</td>\n      <td>100246</td>\n      <td>53730</td>\n      <td>52342</td>\n      <td>33239</td>\n      <td>16810</td>\n      <td>63856</td>\n      <td>...</td>\n      <td>175997</td>\n      <td>305408</td>\n      <td>207893</td>\n      <td>290109</td>\n      <td>287716</td>\n      <td>116219</td>\n      <td>82420</td>\n      <td>47325</td>\n      <td>13636</td>\n      <td>10031</td>\n    </tr>\n    <tr>\n      <th>4226</th>\n      <td>2020-05-02</td>\n      <td>A8:9F:EC:FC:29:1D</td>\n      <td>0</td>\n      <td>28950</td>\n      <td>51271</td>\n      <td>27875</td>\n      <td>26679</td>\n      <td>7112</td>\n      <td>4148</td>\n      <td>15300</td>\n      <td>...</td>\n      <td>121516</td>\n      <td>83633</td>\n      <td>38506</td>\n      <td>28816</td>\n      <td>35948</td>\n      <td>20276</td>\n      <td>18143</td>\n      <td>12109</td>\n      <td>5875</td>\n      <td>4011</td>\n    </tr>\n    <tr>\n      <th>4227</th>\n      <td>2020-05-02</td>\n      <td>A8:9F:EC:FC:30:C1</td>\n      <td>0</td>\n      <td>1317</td>\n      <td>1596</td>\n      <td>1142</td>\n      <td>1746</td>\n      <td>1500</td>\n      <td>1107</td>\n      <td>3311</td>\n      <td>...</td>\n      <td>104829</td>\n      <td>804483</td>\n      <td>204368</td>\n      <td>188050</td>\n      <td>541429</td>\n      <td>135300</td>\n      <td>14180</td>\n      <td>9105</td>\n      <td>1474</td>\n      <td>1693</td>\n    </tr>\n  </tbody>\n</table>\n<p>4228 rows × 70 columns</p>\n</div>"
     },
     "metadata": {},
     "execution_count": 13
    }
   ],
   "source": [
    "df"
   ]
  },
  {
   "cell_type": "code",
   "execution_count": 14,
   "metadata": {},
   "outputs": [],
   "source": [
    "# column_dict_maker(df)"
   ]
  },
  {
   "cell_type": "code",
   "execution_count": 15,
   "metadata": {},
   "outputs": [],
   "source": [
    "\n",
    "column_dict = {}\n",
    "for idx, c in enumerate(df.columns):\n",
    "    if idx <=1:\n",
    "        continue\n",
    "    else:\n",
    "        column_dict[c]= int"
   ]
  },
  {
   "cell_type": "code",
   "execution_count": 17,
   "metadata": {},
   "outputs": [],
   "source": [
    "# column_dict"
   ]
  },
  {
   "cell_type": "code",
   "execution_count": 18,
   "metadata": {},
   "outputs": [],
   "source": [
    "# Dataframe operations\n",
    "\n",
    "\n",
    "df = df.astype(column_dict)\n"
   ]
  },
  {
   "cell_type": "code",
   "execution_count": 19,
   "metadata": {},
   "outputs": [],
   "source": [
    "# df.head()"
   ]
  },
  {
   "cell_type": "code",
   "execution_count": 20,
   "metadata": {},
   "outputs": [],
   "source": [
    "# Create the aggregate dictionary\n",
    "agg_dict = {}\n",
    "for idx, c in enumerate(df.columns):\n",
    "    if idx <=1:\n",
    "        continue\n",
    "    else:\n",
    "        agg_dict[c]= sum"
   ]
  },
  {
   "cell_type": "code",
   "execution_count": 21,
   "metadata": {},
   "outputs": [],
   "source": [
    "# Basic aggregation & melting\n",
    "\n",
    "df = df.groupby(['date','snmpreportedmac'], as_index=False).agg(agg_dict)\n",
    "column_list = tuple(var for var in df.columns if var not in ['date', 'snmpreportedmac'])\n",
    "df = pd.melt(df, id_vars=['date', 'snmpreportedmac'], value_vars=column_list) "
   ]
  },
  {
   "cell_type": "code",
   "execution_count": 22,
   "metadata": {},
   "outputs": [],
   "source": [
    "# df.head()"
   ]
  },
  {
   "cell_type": "code",
   "execution_count": 23,
   "metadata": {},
   "outputs": [],
   "source": [
    "# regex to create sort_order, tranmission_type & radio_type columns\n",
    "\n",
    "df['sort_order'] = df['variable'].str.extract(r'[2,5]\\.?[4]?_\\w{2}_mcs(\\d*)')\n",
    "df['transmission_type'] = df['variable'].str.extract(r'[2,5]\\.?[4]?_(\\w{2})_mcs\\d*')\n",
    "df['radio_type'] = df['variable'].str.extract(r'([2,5]\\.?[4]?)_\\w{2}_mcs\\d*')"
   ]
  },
  {
   "cell_type": "code",
   "execution_count": 26,
   "metadata": {},
   "outputs": [],
   "source": [
    "# df.head(20)"
   ]
  }
 ]
}