{
 "metadata": {
  "language_info": {
   "codemirror_mode": {
    "name": "ipython",
    "version": 3
   },
   "file_extension": ".py",
   "mimetype": "text/x-python",
   "name": "python",
   "nbconvert_exporter": "python",
   "pygments_lexer": "ipython3",
   "version": "3.9.0-final"
  },
  "orig_nbformat": 2,
  "kernelspec": {
   "name": "python3",
   "display_name": "Python 3.9.0 64-bit ('data-wrangler-mKJmvUQx')",
   "metadata": {
    "interpreter": {
     "hash": "1297bf46fd56284c7340c3f9875bd78ace492b213a65dd31a63d0c6d16c15a07"
    }
   }
  }
 },
 "nbformat": 4,
 "nbformat_minor": 2,
 "cells": [
  {
   "source": [
    "## Backup working notebook for data exploration\n",
    "\n",
    "We will use awswrangler to make sure that we have a working connection to the AWS environment and that we can do our pandas-operations (groupby, melt etc.) without having to recreate the exact conditions\n",
    "\n",
    "once this notebook executes successfullky, the next step is to migrate the code to `mcs-melter.py` which is in the root directory of this folder\n",
    "\n",
    "### To-do\n",
    "* migrate code to lambda\n",
    "* exploration of more libraries being added for trajectory performance"
   ],
   "cell_type": "markdown",
   "metadata": {}
  },
  {
   "cell_type": "code",
   "execution_count": 1,
   "metadata": {},
   "outputs": [],
   "source": [
    "# import required libraries\n",
    "\n",
    "import boto3\n",
    "import awswrangler as wr\n",
    "import pandas as pd"
   ]
  },
  {
   "cell_type": "code",
   "execution_count": 2,
   "metadata": {},
   "outputs": [],
   "source": [
    "# create boto session\n",
    "\n",
    "session = boto3.session.Session(profile_name='saml')\n",
    "s3 = session.resource('s3')"
   ]
  },
  {
   "cell_type": "code",
   "execution_count": 3,
   "metadata": {},
   "outputs": [],
   "source": [
    "#using S3 objects to generate file list\n",
    "# my_bucket = s3.Bucket('xwifi-od-s3-transform')\n",
    "# data_prefix='/converted-data/snmp/type=radioStatsMCS/'\n",
    "# file_list = [obs for obs in my_bucket.objects.all()]\n"
   ]
  },
  {
   "cell_type": "code",
   "execution_count": 4,
   "metadata": {},
   "outputs": [],
   "source": [
    "# file_list"
   ]
  },
  {
   "cell_type": "code",
   "execution_count": 5,
   "metadata": {},
   "outputs": [],
   "source": [
    "# file_list = wr.s3.list_objects(\"s3://xwifi-od-s3-transform/radioStatsMCS\")"
   ]
  },
  {
   "cell_type": "code",
   "execution_count": 6,
   "metadata": {},
   "outputs": [],
   "source": [
    "# # identify csv bucket url\n",
    "\n",
    "# # muy_bucket = 'xwifi-od-s3-transform/'\n",
    "# my_bucket = 's3://xwifi-od-s3-transform/converted-data/snmp/type=radioStatsMCS/**/*'\n",
    "\n",
    "# # store results in a list\n",
    "# result = wr.s3.list_objects(my_bucket, boto3_session=session)"
   ]
  },
  {
   "cell_type": "code",
   "execution_count": 7,
   "metadata": {},
   "outputs": [],
   "source": [
    "# len(result)"
   ]
  },
  {
   "cell_type": "code",
   "execution_count": 8,
   "metadata": {},
   "outputs": [],
   "source": [
    "# result[0]"
   ]
  },
  {
   "cell_type": "code",
   "execution_count": 9,
   "metadata": {},
   "outputs": [],
   "source": [
    "# reading parquet files\n",
    "\n",
    "parquet_bucket = 's3://xwifi-od-s3-parquet/snmp/type=radiostatsMCS/*'\n",
    "result = wr.s3.list_objects(parquet_bucket, boto3_session=session)"
   ]
  },
  {
   "cell_type": "code",
   "execution_count": 10,
   "metadata": {},
   "outputs": [],
   "source": [
    "# len(result)"
   ]
  },
  {
   "cell_type": "code",
   "execution_count": 11,
   "metadata": {},
   "outputs": [],
   "source": [
    "# result[0]"
   ]
  },
  {
   "cell_type": "code",
   "execution_count": 12,
   "metadata": {},
   "outputs": [],
   "source": [
    "df = wr.s3.read_parquet(result[0], boto3_session=session)"
   ]
  },
  {
   "cell_type": "code",
   "execution_count": 13,
   "metadata": {},
   "outputs": [],
   "source": [
    "# df.head()"
   ]
  },
  {
   "cell_type": "code",
   "execution_count": 14,
   "metadata": {},
   "outputs": [],
   "source": [
    "df['timestamp'] = pd.to_datetime(df['timestamp']).dt.date\n",
    "df = df.drop(['current_ip', 'current_location', 'dt'], axis=1)\n",
    "df = df.rename(columns={'current_mac':'snmpreportedmac',\n",
    "                       'timestamp':'date'})\n",
    "df = df.fillna(0)"
   ]
  },
  {
   "cell_type": "code",
   "execution_count": 16,
   "metadata": {},
   "outputs": [],
   "source": [
    "# df.columns"
   ]
  },
  {
   "cell_type": "code",
   "execution_count": 15,
   "metadata": {},
   "outputs": [],
   "source": [
    "column_dict = {}\n",
    "for idx, c in enumerate(df.columns):\n",
    "    if idx <=1:\n",
    "        continue\n",
    "    else:\n",
    "        column_dict[c]= int"
   ]
  },
  {
   "cell_type": "code",
   "execution_count": 17,
   "metadata": {},
   "outputs": [],
   "source": [
    "# column_dict"
   ]
  },
  {
   "cell_type": "code",
   "execution_count": 18,
   "metadata": {},
   "outputs": [],
   "source": [
    "# Dataframe operations\n",
    "\n",
    "\n",
    "df = df.astype(column_dict)\n"
   ]
  },
  {
   "cell_type": "code",
   "execution_count": 19,
   "metadata": {},
   "outputs": [],
   "source": [
    "# df.head()"
   ]
  },
  {
   "cell_type": "code",
   "execution_count": 20,
   "metadata": {},
   "outputs": [],
   "source": [
    "# Create the aggregate dictionary\n",
    "agg_dict = {}\n",
    "for idx, c in enumerate(df.columns):\n",
    "    if idx <=1:\n",
    "        continue\n",
    "    else:\n",
    "        agg_dict[c]= sum"
   ]
  },
  {
   "cell_type": "code",
   "execution_count": 21,
   "metadata": {},
   "outputs": [],
   "source": [
    "# Basic aggregation & melting\n",
    "\n",
    "df = df.groupby(['date','snmpreportedmac'], as_index=False).agg(agg_dict)\n",
    "column_list = tuple(var for var in df.columns if var not in ['date', 'snmpreportedmac'])\n",
    "df = pd.melt(df, id_vars=['date', 'snmpreportedmac'], value_vars=column_list) "
   ]
  },
  {
   "cell_type": "code",
   "execution_count": 22,
   "metadata": {},
   "outputs": [],
   "source": [
    "# df.head()"
   ]
  },
  {
   "cell_type": "code",
   "execution_count": 23,
   "metadata": {},
   "outputs": [],
   "source": [
    "# regex to create sort_order, tranmission_type & radio_type columns\n",
    "\n",
    "df['sort_order'] = df['variable'].str.extract(r'[2,5]\\.?[4]?_\\w{2}_mcs(\\d*)')\n",
    "df['transmission_type'] = df['variable'].str.extract(r'[2,5]\\.?[4]?_(\\w{2})_mcs\\d*')\n",
    "df['radio_type'] = df['variable'].str.extract(r'([2,5]\\.?[4]?)_\\w{2}_mcs\\d*')"
   ]
  },
  {
   "cell_type": "code",
   "execution_count": 26,
   "metadata": {},
   "outputs": [],
   "source": [
    "# df.head(20)"
   ]
  }
 ]
}